{
 "cells": [
  {
   "cell_type": "code",
   "execution_count": 1,
   "metadata": {
    "collapsed": true
   },
   "outputs": [],
   "source": [
    "import geopandas as gpd\n",
    "import pandas as ps"
   ]
  },
  {
   "cell_type": "markdown",
   "metadata": {},
   "source": [
    "## immprovement polygons"
   ]
  },
  {
   "cell_type": "code",
   "execution_count": 47,
   "metadata": {
    "collapsed": false
   },
   "outputs": [
    {
     "data": {
      "text/html": [
       "<div>\n",
       "<table border=\"1\" class=\"dataframe\">\n",
       "  <thead>\n",
       "    <tr style=\"text-align: right;\">\n",
       "      <th></th>\n",
       "      <th>CO_FRAC_RA</th>\n",
       "      <th>AhorroMinutos</th>\n",
       "      <th>geometry</th>\n",
       "      <th>popupContent</th>\n",
       "    </tr>\n",
       "  </thead>\n",
       "  <tbody>\n",
       "    <tr>\n",
       "      <th>3</th>\n",
       "      <td>10_12_9</td>\n",
       "      <td>-2.299146</td>\n",
       "      <td>POLYGON ((-58.48213672307894 -34.6320075355014...</td>\n",
       "      <td>Se ahorran en total 02:17 minutos al centro</td>\n",
       "    </tr>\n",
       "    <tr>\n",
       "      <th>5</th>\n",
       "      <td>10_13_12</td>\n",
       "      <td>-4.282479</td>\n",
       "      <td>POLYGON ((-58.4841308103836 -34.63251938873117...</td>\n",
       "      <td>Se ahorran en total 04:16 minutos al centro</td>\n",
       "    </tr>\n",
       "    <tr>\n",
       "      <th>7</th>\n",
       "      <td>10_18_6</td>\n",
       "      <td>-1.999146</td>\n",
       "      <td>POLYGON ((-58.48271948045223 -34.6337255626367...</td>\n",
       "      <td>Se ahorran en total 01:59 minutos al centro</td>\n",
       "    </tr>\n",
       "    <tr>\n",
       "      <th>8</th>\n",
       "      <td>10_18_7</td>\n",
       "      <td>-2.332479</td>\n",
       "      <td>POLYGON ((-58.48358552640425 -34.6348253467823...</td>\n",
       "      <td>Se ahorran en total 02:19 minutos al centro</td>\n",
       "    </tr>\n",
       "    <tr>\n",
       "      <th>9</th>\n",
       "      <td>10_18_9</td>\n",
       "      <td>-2.215812</td>\n",
       "      <td>POLYGON ((-58.48233821111224 -34.6345238614986...</td>\n",
       "      <td>Se ahorran en total 02:12 minutos al centro</td>\n",
       "    </tr>\n",
       "  </tbody>\n",
       "</table>\n",
       "</div>"
      ],
      "text/plain": [
       "  CO_FRAC_RA  AhorroMinutos  \\\n",
       "3    10_12_9      -2.299146   \n",
       "5   10_13_12      -4.282479   \n",
       "7    10_18_6      -1.999146   \n",
       "8    10_18_7      -2.332479   \n",
       "9    10_18_9      -2.215812   \n",
       "\n",
       "                                            geometry  \\\n",
       "3  POLYGON ((-58.48213672307894 -34.6320075355014...   \n",
       "5  POLYGON ((-58.4841308103836 -34.63251938873117...   \n",
       "7  POLYGON ((-58.48271948045223 -34.6337255626367...   \n",
       "8  POLYGON ((-58.48358552640425 -34.6348253467823...   \n",
       "9  POLYGON ((-58.48233821111224 -34.6345238614986...   \n",
       "\n",
       "                                  popupContent  \n",
       "3  Se ahorran en total 02:17 minutos al centro  \n",
       "5  Se ahorran en total 04:16 minutos al centro  \n",
       "7  Se ahorran en total 01:59 minutos al centro  \n",
       "8  Se ahorran en total 02:19 minutos al centro  \n",
       "9  Se ahorran en total 02:12 minutos al centro  "
      ]
     },
     "execution_count": 47,
     "metadata": {},
     "output_type": "execute_result"
    }
   ],
   "source": [
    "justImprovement = gpd.read_file('times/newTimesImprov.shp')\n",
    "justImprovement = justImprovement.to_crs(epsg=4326)\n",
    "justImprovement.drop(['newTimeMin','plata','secStd','tiemposMin','tiemposSec','x','y','diffP'],axis=1,inplace=True)\n",
    "justImprovement.columns = ['CO_FRAC_RA','AhorroMinutos','geometry',] \n",
    "justImprovement = justImprovement.query('AhorroMinutos <0')\n",
    "justImprovement['popupContent'] = justImprovement.AhorroMinutos.map(lambda x: \"Se ahorran en total %02d:%02d minutos al centro\" % (abs(int(x)),abs((x-int(x)))*60))\n",
    "#justImprovement.drop(['AhorroMinutos'],axis=1,inplace=True)\n",
    "justImprovement.to_file('../improvementRadios', driver=\"GeoJSON\")\n",
    "justImprovement.head()"
   ]
  },
  {
   "cell_type": "markdown",
   "metadata": {},
   "source": [
    "## Home to bikes"
   ]
  },
  {
   "cell_type": "code",
   "execution_count": 38,
   "metadata": {
    "collapsed": false
   },
   "outputs": [
    {
     "data": {
      "text/html": [
       "<div>\n",
       "<table border=\"1\" class=\"dataframe\">\n",
       "  <thead>\n",
       "    <tr style=\"text-align: right;\">\n",
       "      <th></th>\n",
       "      <th>Name</th>\n",
       "      <th>homTbikeTi</th>\n",
       "    </tr>\n",
       "  </thead>\n",
       "  <tbody>\n",
       "    <tr>\n",
       "      <th>3</th>\n",
       "      <td>10_12_9 - 1008</td>\n",
       "      <td>3.383333</td>\n",
       "    </tr>\n",
       "    <tr>\n",
       "      <th>5</th>\n",
       "      <td>10_13_12 - 1008</td>\n",
       "      <td>2.100000</td>\n",
       "    </tr>\n",
       "    <tr>\n",
       "      <th>7</th>\n",
       "      <td>10_18_6 - 1008</td>\n",
       "      <td>1.216667</td>\n",
       "    </tr>\n",
       "    <tr>\n",
       "      <th>8</th>\n",
       "      <td>10_18_7 - 1008</td>\n",
       "      <td>3.750000</td>\n",
       "    </tr>\n",
       "    <tr>\n",
       "      <th>9</th>\n",
       "      <td>10_18_9 - 1008</td>\n",
       "      <td>6.166667</td>\n",
       "    </tr>\n",
       "  </tbody>\n",
       "</table>\n",
       "</div>"
      ],
      "text/plain": [
       "              Name  homTbikeTi\n",
       "3   10_12_9 - 1008    3.383333\n",
       "5  10_13_12 - 1008    2.100000\n",
       "7   10_18_6 - 1008    1.216667\n",
       "8   10_18_7 - 1008    3.750000\n",
       "9   10_18_9 - 1008    6.166667"
      ]
     },
     "execution_count": 38,
     "metadata": {},
     "output_type": "execute_result"
    }
   ],
   "source": [
    "#lineas de home to bike con popup de tiempo de recorrido\n",
    "homesToBikesInsumo = gpd.read_file('networkAnalysisResults/homeToDowntown/homeToDowntown_homeToDowntown.shp')\n",
    "homesToBikesInsumo = homesToBikesInsumo.to_crs(epsg=4326)\n",
    "\n",
    "homesToBikesInsumo['CO_FRAC_RA'] = homesToBikesInsumo['Name'].map(lambda x: (x.split()[0]))\n",
    "homesToBikesInsumo = homesToBikesInsumo.loc[homesToBikesInsumo.CO_FRAC_RA.isin(justImprovement.CO_FRAC_RA),['Name','FacilityID',\n",
    "                                                                                          'geometry',\n",
    "                                                                                         'homTbikeTi',\n",
    "                                                                                          'bikeTsubTi','CO_FRAC_RA']]\n",
    "\n",
    "homesToBikesInsumo['Name'] = [homesToBikesInsumo.CO_FRAC_RA.loc[i] + ' - ' + str(homesToBikesInsumo.FacilityID.loc[i]) for i in homesToBikesInsumo.index]\n",
    "homesToBikesInsumo = homesToBikesInsumo.loc[:,['Name','homTbikeTi']]\n",
    "homesToBikesInsumo.head()"
   ]
  },
  {
   "cell_type": "code",
   "execution_count": 45,
   "metadata": {
    "collapsed": false
   },
   "outputs": [
    {
     "data": {
      "text/html": [
       "<div>\n",
       "<table border=\"1\" class=\"dataframe\">\n",
       "  <thead>\n",
       "    <tr style=\"text-align: right;\">\n",
       "      <th></th>\n",
       "      <th>Name</th>\n",
       "      <th>geometry</th>\n",
       "      <th>popupContent</th>\n",
       "    </tr>\n",
       "  </thead>\n",
       "  <tbody>\n",
       "    <tr>\n",
       "      <th>0</th>\n",
       "      <td>10_12_9 - 1008</td>\n",
       "      <td>LINESTRING (-58.48185769645809 -34.63260753795...</td>\n",
       "      <td>Son 03:22 minutos caminando hasta la nueva est...</td>\n",
       "    </tr>\n",
       "    <tr>\n",
       "      <th>1</th>\n",
       "      <td>10_13_12 - 1008</td>\n",
       "      <td>LINESTRING (-58.48425299483299 -34.63339834844...</td>\n",
       "      <td>Son 02:06 minutos caminando hasta la nueva est...</td>\n",
       "    </tr>\n",
       "    <tr>\n",
       "      <th>2</th>\n",
       "      <td>10_18_6 - 1008</td>\n",
       "      <td>LINESTRING (-58.48252844639142 -34.63412616869...</td>\n",
       "      <td>Son 01:13 minutos caminando hasta la nueva est...</td>\n",
       "    </tr>\n",
       "    <tr>\n",
       "      <th>3</th>\n",
       "      <td>10_18_7 - 1008</td>\n",
       "      <td>LINESTRING (-58.48400791416449 -34.63564448277...</td>\n",
       "      <td>Son 03:45 minutos caminando hasta la nueva est...</td>\n",
       "    </tr>\n",
       "    <tr>\n",
       "      <th>4</th>\n",
       "      <td>10_18_9 - 1008</td>\n",
       "      <td>LINESTRING (-58.48123267880796 -34.63568356898...</td>\n",
       "      <td>Son 06:10 minutos caminando hasta la nueva est...</td>\n",
       "    </tr>\n",
       "  </tbody>\n",
       "</table>\n",
       "</div>"
      ],
      "text/plain": [
       "              Name                                           geometry  \\\n",
       "0   10_12_9 - 1008  LINESTRING (-58.48185769645809 -34.63260753795...   \n",
       "1  10_13_12 - 1008  LINESTRING (-58.48425299483299 -34.63339834844...   \n",
       "2   10_18_6 - 1008  LINESTRING (-58.48252844639142 -34.63412616869...   \n",
       "3   10_18_7 - 1008  LINESTRING (-58.48400791416449 -34.63564448277...   \n",
       "4   10_18_9 - 1008  LINESTRING (-58.48123267880796 -34.63568356898...   \n",
       "\n",
       "                                        popupContent  \n",
       "0  Son 03:22 minutos caminando hasta la nueva est...  \n",
       "1  Son 02:06 minutos caminando hasta la nueva est...  \n",
       "2  Son 01:13 minutos caminando hasta la nueva est...  \n",
       "3  Son 03:45 minutos caminando hasta la nueva est...  \n",
       "4  Son 06:10 minutos caminando hasta la nueva est...  "
      ]
     },
     "execution_count": 45,
     "metadata": {},
     "output_type": "execute_result"
    }
   ],
   "source": [
    "homesToBikes = gpd.read_file('networkAnalysisResults/homeToBikesQGIS/homeToBikes.shp')\n",
    "homesToBikes = homesToBikes.to_crs(epsg=4326)\n",
    "homesToBikes = caca.loc[:,['Name','geometry']]\n",
    "homesToBikes = homesToBikes.merge(homesToBikesInsumo,on='Name',how='inner')\n",
    "homesToBikes['popupContent'] = homesToBikes.homTbikeTi.map(lambda x: \"Son %02d:%02d minutos caminando hasta la nueva estación de bici\" % (abs(int(x)),abs((x-int(x)))*60))\n",
    "homesToBikes.drop(['homTbikeTi'],axis=1,inplace=True)\n",
    "homesToBikes.to_file('../homesToBikes', driver=\"GeoJSON\")\n",
    "\n",
    "homesToBikes.head()"
   ]
  },
  {
   "cell_type": "markdown",
   "metadata": {},
   "source": [
    "## Bike to subway"
   ]
  },
  {
   "cell_type": "code",
   "execution_count": 76,
   "metadata": {
    "collapsed": false
   },
   "outputs": [
    {
     "data": {
      "text/html": [
       "<div>\n",
       "<table border=\"1\" class=\"dataframe\">\n",
       "  <thead>\n",
       "    <tr style=\"text-align: right;\">\n",
       "      <th></th>\n",
       "      <th>Name</th>\n",
       "      <th>geometry</th>\n",
       "      <th>popupContent</th>\n",
       "    </tr>\n",
       "  </thead>\n",
       "  <tbody>\n",
       "    <tr>\n",
       "      <th>0</th>\n",
       "      <td>83 - 1008</td>\n",
       "      <td>LINESTRING (-58.46963912075837 -34.63070693207...</td>\n",
       "      <td>Son 08:01 minutos de recorrido en bici al subte</td>\n",
       "    </tr>\n",
       "    <tr>\n",
       "      <th>1</th>\n",
       "      <td>83 - 1455</td>\n",
       "      <td>LINESTRING (-58.46963912075837 -34.63070693207...</td>\n",
       "      <td>Son 12:37 minutos de recorrido en bici al subte</td>\n",
       "    </tr>\n",
       "    <tr>\n",
       "      <th>2</th>\n",
       "      <td>81 - 1506</td>\n",
       "      <td>LINESTRING (-58.48638523148121 -34.57431885209...</td>\n",
       "      <td>Son 08:55 minutos de recorrido en bici al subte</td>\n",
       "    </tr>\n",
       "    <tr>\n",
       "      <th>3</th>\n",
       "      <td>67 - 1818</td>\n",
       "      <td>LINESTRING (-58.46113147747113 -34.64300625780...</td>\n",
       "      <td>Son 13:52 minutos de recorrido en bici al subte</td>\n",
       "    </tr>\n",
       "    <tr>\n",
       "      <th>4</th>\n",
       "      <td>71 - 1970</td>\n",
       "      <td>LINESTRING (-58.46238146692324 -34.55564372444...</td>\n",
       "      <td>Son 11:16 minutos de recorrido en bici al subte</td>\n",
       "    </tr>\n",
       "  </tbody>\n",
       "</table>\n",
       "</div>"
      ],
      "text/plain": [
       "        Name                                           geometry  \\\n",
       "0  83 - 1008  LINESTRING (-58.46963912075837 -34.63070693207...   \n",
       "1  83 - 1455  LINESTRING (-58.46963912075837 -34.63070693207...   \n",
       "2  81 - 1506  LINESTRING (-58.48638523148121 -34.57431885209...   \n",
       "3  67 - 1818  LINESTRING (-58.46113147747113 -34.64300625780...   \n",
       "4  71 - 1970  LINESTRING (-58.46238146692324 -34.55564372444...   \n",
       "\n",
       "                                      popupContent  \n",
       "0  Son 08:01 minutos de recorrido en bici al subte  \n",
       "1  Son 12:37 minutos de recorrido en bici al subte  \n",
       "2  Son 08:55 minutos de recorrido en bici al subte  \n",
       "3  Son 13:52 minutos de recorrido en bici al subte  \n",
       "4  Son 11:16 minutos de recorrido en bici al subte  "
      ]
     },
     "execution_count": 76,
     "metadata": {},
     "output_type": "execute_result"
    }
   ],
   "source": [
    "#lineas de bike to subway con popup de tiempo de recorrido\n",
    "bikeToSubway = gpd.read_file('networkAnalysisResults/bikeToSubwayQGIS/bikeToSubway_routes.shp')\n",
    "#10km/h 10 is the velocity in kilometers\n",
    "bikeToSubway['bikeTsubTime']= bikeToSubway.Total_Leng/1000/10*60 \n",
    "\n",
    "bikeToSubway['popupContent'] = bikeToSubway.bikeTsubTime.map(lambda x: \"Son %02d:%02d minutos de recorrido en bici al subte\" % (abs(int(x)),abs((x-int(x)))*60))\n",
    "bikeToSubway.drop(['FacilityCu','FacilityID','bikeTsubTime','FacilityRa','IncidentCu','IncidentID','ObjectID','Total_Leng'],\n",
    "                 axis = 1,\n",
    "                 inplace = True)\n",
    "\n",
    "bikeToSubway.to_file('../bikeToSubway', driver=\"GeoJSON\")\n",
    "\n",
    "bikeToSubway.head()"
   ]
  },
  {
   "cell_type": "code",
   "execution_count": 83,
   "metadata": {
    "collapsed": false
   },
   "outputs": [
    {
     "data": {
      "text/html": [
       "<div>\n",
       "<table border=\"1\" class=\"dataframe\">\n",
       "  <thead>\n",
       "    <tr style=\"text-align: right;\">\n",
       "      <th></th>\n",
       "      <th>popupContent</th>\n",
       "      <th>geometry</th>\n",
       "    </tr>\n",
       "  </thead>\n",
       "  <tbody>\n",
       "    <tr>\n",
       "      <th>0</th>\n",
       "      <td>CASEROS</td>\n",
       "      <td>POINT (-58.39833005827354 -34.63619629114226)</td>\n",
       "    </tr>\n",
       "    <tr>\n",
       "      <th>1</th>\n",
       "      <td>INCLAN</td>\n",
       "      <td>POINT (-58.40037199947714 -34.62982192437689)</td>\n",
       "    </tr>\n",
       "    <tr>\n",
       "      <th>2</th>\n",
       "      <td>HUMBERTO 1°</td>\n",
       "      <td>POINT (-58.40172516912597 -34.62353873781329)</td>\n",
       "    </tr>\n",
       "    <tr>\n",
       "      <th>3</th>\n",
       "      <td>VENEZUELA</td>\n",
       "      <td>POINT (-58.40413412280196 -34.61568876109078)</td>\n",
       "    </tr>\n",
       "    <tr>\n",
       "      <th>4</th>\n",
       "      <td>ONCE - 30 DE DICIEMBRE</td>\n",
       "      <td>POINT (-58.40543878453062 -34.60938200117359)</td>\n",
       "    </tr>\n",
       "  </tbody>\n",
       "</table>\n",
       "</div>"
      ],
      "text/plain": [
       "             popupContent                                       geometry\n",
       "0                 CASEROS  POINT (-58.39833005827354 -34.63619629114226)\n",
       "1                  INCLAN  POINT (-58.40037199947714 -34.62982192437689)\n",
       "2             HUMBERTO 1°  POINT (-58.40172516912597 -34.62353873781329)\n",
       "3               VENEZUELA  POINT (-58.40413412280196 -34.61568876109078)\n",
       "4  ONCE - 30 DE DICIEMBRE  POINT (-58.40543878453062 -34.60938200117359)"
      ]
     },
     "execution_count": 83,
     "metadata": {},
     "output_type": "execute_result"
    }
   ],
   "source": [
    "#estaciones de subte con estacion en popupcontent\n",
    "subwayStations = gpd.read_file('../originalShapes/subwayStations/estaciones_de_subte.shp')\n",
    "subwayStations = subwayStations.to_crs(epsg=4326)\n",
    "subwayStations.drop(['ID','LINEA'],axis=1,inplace=True)\n",
    "subwayStations.columns=['popupContent','geometry'] \n",
    "bikeToSubway.to_file('../bikeToSubway', driver=\"GeoJSON\")\n",
    "\n",
    "subwayStations.head()\n",
    "\n"
   ]
  },
  {
   "cell_type": "code",
   "execution_count": 89,
   "metadata": {
    "collapsed": false
   },
   "outputs": [
    {
     "data": {
      "text/html": [
       "<div>\n",
       "<table border=\"1\" class=\"dataframe\">\n",
       "  <thead>\n",
       "    <tr style=\"text-align: right;\">\n",
       "      <th></th>\n",
       "      <th>popupContent</th>\n",
       "      <th>geometry</th>\n",
       "    </tr>\n",
       "  </thead>\n",
       "  <tbody>\n",
       "    <tr>\n",
       "      <th>0</th>\n",
       "      <td>LINEA D</td>\n",
       "      <td>LINESTRING (-58.45152661752446 -34.56666320460...</td>\n",
       "    </tr>\n",
       "    <tr>\n",
       "      <th>1</th>\n",
       "      <td>LINEA D</td>\n",
       "      <td>LINESTRING (-58.45589001661655 -34.56275716083...</td>\n",
       "    </tr>\n",
       "    <tr>\n",
       "      <th>2</th>\n",
       "      <td>LINEA D</td>\n",
       "      <td>LINESTRING (-58.44406940881534 -34.57046014797...</td>\n",
       "    </tr>\n",
       "    <tr>\n",
       "      <th>3</th>\n",
       "      <td>LINEA D</td>\n",
       "      <td>LINESTRING (-58.43441511235061 -34.57562603880...</td>\n",
       "    </tr>\n",
       "    <tr>\n",
       "      <th>4</th>\n",
       "      <td>LINEA D</td>\n",
       "      <td>LINESTRING (-58.42511333936363 -34.57886957667...</td>\n",
       "    </tr>\n",
       "  </tbody>\n",
       "</table>\n",
       "</div>"
      ],
      "text/plain": [
       "  popupContent                                           geometry\n",
       "0      LINEA D  LINESTRING (-58.45152661752446 -34.56666320460...\n",
       "1      LINEA D  LINESTRING (-58.45589001661655 -34.56275716083...\n",
       "2      LINEA D  LINESTRING (-58.44406940881534 -34.57046014797...\n",
       "3      LINEA D  LINESTRING (-58.43441511235061 -34.57562603880...\n",
       "4      LINEA D  LINESTRING (-58.42511333936363 -34.57886957667..."
      ]
     },
     "execution_count": 89,
     "metadata": {},
     "output_type": "execute_result"
    }
   ],
   "source": [
    "#lineas de subte con popup la inea\n",
    "subwayLines = gpd.read_file('../originalShapes/subwayLines/red_de_subte.shp')\n",
    "subwayLines = subwayLines.to_crs(epsg=4326)\n",
    "subwayLines.drop(['ID'],axis=1,inplace=True)\n",
    "subwayLines.columns=['popupContent','geometry'] \n",
    "subwayLines.head()"
   ]
  },
  {
   "cell_type": "code",
   "execution_count": 92,
   "metadata": {
    "collapsed": false
   },
   "outputs": [
    {
     "data": {
      "text/html": [
       "<div>\n",
       "<table border=\"1\" class=\"dataframe\">\n",
       "  <thead>\n",
       "    <tr style=\"text-align: right;\">\n",
       "      <th></th>\n",
       "      <th>popupContent</th>\n",
       "      <th>geometry</th>\n",
       "    </tr>\n",
       "  </thead>\n",
       "  <tbody>\n",
       "    <tr>\n",
       "      <th>0</th>\n",
       "      <td>FIGUEROA ALCORTA, PRES. AV. y BIBILONI, JUAN A.</td>\n",
       "      <td>POINT (-58.39185516097447 -34.58358035902182)</td>\n",
       "    </tr>\n",
       "    <tr>\n",
       "      <th>1</th>\n",
       "      <td>DEL LIBERTADOR AV. y RAMOS MEJIA, JOSE MARIA, ...</td>\n",
       "      <td>POINT (-58.37422545676812 -34.59303579060376)</td>\n",
       "    </tr>\n",
       "    <tr>\n",
       "      <th>2</th>\n",
       "      <td>HUERGO, ING. AV. y BELGRANO AV.</td>\n",
       "      <td>POINT (-58.36832159551064 -34.61168855013559)</td>\n",
       "    </tr>\n",
       "    <tr>\n",
       "      <th>3</th>\n",
       "      <td>LAVALLE y BOUCHARD</td>\n",
       "      <td>POINT (-58.36835420317743 -34.60216783080737)</td>\n",
       "    </tr>\n",
       "    <tr>\n",
       "      <th>4</th>\n",
       "      <td>GARCIA, MARTIN AV. e IRALA</td>\n",
       "      <td>POINT (-58.36876396832855 -34.62839319029082)</td>\n",
       "    </tr>\n",
       "  </tbody>\n",
       "</table>\n",
       "</div>"
      ],
      "text/plain": [
       "                                        popupContent  \\\n",
       "0    FIGUEROA ALCORTA, PRES. AV. y BIBILONI, JUAN A.   \n",
       "1  DEL LIBERTADOR AV. y RAMOS MEJIA, JOSE MARIA, ...   \n",
       "2                    HUERGO, ING. AV. y BELGRANO AV.   \n",
       "3                                 LAVALLE y BOUCHARD   \n",
       "4                         GARCIA, MARTIN AV. e IRALA   \n",
       "\n",
       "                                        geometry  \n",
       "0  POINT (-58.39185516097447 -34.58358035902182)  \n",
       "1  POINT (-58.37422545676812 -34.59303579060376)  \n",
       "2  POINT (-58.36832159551064 -34.61168855013559)  \n",
       "3  POINT (-58.36835420317743 -34.60216783080737)  \n",
       "4  POINT (-58.36876396832855 -34.62839319029082)  "
      ]
     },
     "execution_count": 92,
     "metadata": {},
     "output_type": "execute_result"
    }
   ],
   "source": [
    "#estaciones viejas con popup nombre la escacion\n",
    "oldStations = gpd.read_file('../originalShapes/bikeshareStations/estaciones_de_bicicletas.shp')\n",
    "oldStations = oldStations.to_crs(epsg=4326)\n",
    "oldStations.drop(['AUTOMAT','DOMICILIO','Horario','IMAGEN','NOMBRE','NRO_EST','OBSERV'],axis=1,inplace=True)\n",
    "oldStations.columns=['popupContent','geometry'] \n",
    "oldStations.head()"
   ]
  },
  {
   "cell_type": "code",
   "execution_count": 5,
   "metadata": {
    "collapsed": false
   },
   "outputs": [
    {
     "data": {
      "text/html": [
       "<div>\n",
       "<table border=\"1\" class=\"dataframe\">\n",
       "  <thead>\n",
       "    <tr style=\"text-align: right;\">\n",
       "      <th></th>\n",
       "      <th>bikesID</th>\n",
       "      <th>geometry</th>\n",
       "    </tr>\n",
       "  </thead>\n",
       "  <tbody>\n",
       "    <tr>\n",
       "      <th>0</th>\n",
       "      <td>1008</td>\n",
       "      <td>POINT (-58.48271903122684 -34.63372489684256)</td>\n",
       "    </tr>\n",
       "    <tr>\n",
       "      <th>1</th>\n",
       "      <td>1455</td>\n",
       "      <td>POINT (-58.47717057647716 -34.61421608467159)</td>\n",
       "    </tr>\n",
       "    <tr>\n",
       "      <th>2</th>\n",
       "      <td>1506</td>\n",
       "      <td>POINT (-58.47657764368105 -34.56641627994559)</td>\n",
       "    </tr>\n",
       "    <tr>\n",
       "      <th>3</th>\n",
       "      <td>1818</td>\n",
       "      <td>POINT (-58.47304090788498 -34.65855188127559)</td>\n",
       "    </tr>\n",
       "    <tr>\n",
       "      <th>4</th>\n",
       "      <td>1970</td>\n",
       "      <td>POINT (-58.4713938756251 -34.542134330909)</td>\n",
       "    </tr>\n",
       "  </tbody>\n",
       "</table>\n",
       "</div>"
      ],
      "text/plain": [
       "   bikesID                                       geometry\n",
       "0     1008  POINT (-58.48271903122684 -34.63372489684256)\n",
       "1     1455  POINT (-58.47717057647716 -34.61421608467159)\n",
       "2     1506  POINT (-58.47657764368105 -34.56641627994559)\n",
       "3     1818  POINT (-58.47304090788498 -34.65855188127559)\n",
       "4     1970     POINT (-58.4713938756251 -34.542134330909)"
      ]
     },
     "execution_count": 5,
     "metadata": {},
     "output_type": "execute_result"
    }
   ],
   "source": [
    "#nueva estaciones\n",
    "newStations = gpd.read_file('networkAnalysisResults/locationAllocation/bikesOutputLocationAllocation.shp')\n",
    "newStations = newStations.to_crs(epsg=4326)\n",
    "newStations = newStations.loc[:,['bikesID','geometry']]\n",
    "newStations.to_file('../newStations', driver=\"GeoJSON\")\n",
    "\n",
    "newStations.head()"
   ]
  },
  {
   "cell_type": "code",
   "execution_count": null,
   "metadata": {
    "collapsed": true
   },
   "outputs": [],
   "source": []
  }
 ],
 "metadata": {
  "anaconda-cloud": {},
  "kernelspec": {
   "display_name": "Python [conda root]",
   "language": "python",
   "name": "conda-root-py"
  },
  "language_info": {
   "codemirror_mode": {
    "name": "ipython",
    "version": 2
   },
   "file_extension": ".py",
   "mimetype": "text/x-python",
   "name": "python",
   "nbconvert_exporter": "python",
   "pygments_lexer": "ipython2",
   "version": "2.7.12"
  }
 },
 "nbformat": 4,
 "nbformat_minor": 1
}
